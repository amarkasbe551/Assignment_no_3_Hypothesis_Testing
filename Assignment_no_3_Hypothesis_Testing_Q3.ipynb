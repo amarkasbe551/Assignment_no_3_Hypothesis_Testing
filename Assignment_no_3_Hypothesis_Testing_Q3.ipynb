{
 "cells": [
  {
   "cell_type": "markdown",
   "id": "b39826ff",
   "metadata": {},
   "source": [
    "Sales of products in four different regions is tabulated for males and females. Find if male-female buyer rations are similar across regions. So, chi square test is applicable.\n",
    "<br>\n",
    "Solution:- \n",
    "H0 (There is no association between male-female buyer rations across regions).\n",
    "<br>\n",
    "Ha (There is association between male-female buyer rations across regions)."
   ]
  },
  {
   "cell_type": "code",
   "execution_count": 47,
   "id": "471d36c7",
   "metadata": {},
   "outputs": [],
   "source": [
    "from scipy import stats as st\n",
    "import pandas as pd\n",
    "import numpy as np"
   ]
  },
  {
   "cell_type": "code",
   "execution_count": 48,
   "id": "3be5f183",
   "metadata": {},
   "outputs": [],
   "source": [
    "Buyer = pd.read_csv(\"BuyerRatio.csv\",index_col = 0)"
   ]
  },
  {
   "cell_type": "code",
   "execution_count": 49,
   "id": "ef50597d",
   "metadata": {},
   "outputs": [
    {
     "data": {
      "text/html": [
       "<div>\n",
       "<style scoped>\n",
       "    .dataframe tbody tr th:only-of-type {\n",
       "        vertical-align: middle;\n",
       "    }\n",
       "\n",
       "    .dataframe tbody tr th {\n",
       "        vertical-align: top;\n",
       "    }\n",
       "\n",
       "    .dataframe thead th {\n",
       "        text-align: right;\n",
       "    }\n",
       "</style>\n",
       "<table border=\"1\" class=\"dataframe\">\n",
       "  <thead>\n",
       "    <tr style=\"text-align: right;\">\n",
       "      <th></th>\n",
       "      <th>East</th>\n",
       "      <th>West</th>\n",
       "      <th>North</th>\n",
       "      <th>South</th>\n",
       "    </tr>\n",
       "    <tr>\n",
       "      <th>Observed Values</th>\n",
       "      <th></th>\n",
       "      <th></th>\n",
       "      <th></th>\n",
       "      <th></th>\n",
       "    </tr>\n",
       "  </thead>\n",
       "  <tbody>\n",
       "    <tr>\n",
       "      <th>Males</th>\n",
       "      <td>50</td>\n",
       "      <td>142</td>\n",
       "      <td>131</td>\n",
       "      <td>70</td>\n",
       "    </tr>\n",
       "    <tr>\n",
       "      <th>Females</th>\n",
       "      <td>435</td>\n",
       "      <td>1523</td>\n",
       "      <td>1356</td>\n",
       "      <td>750</td>\n",
       "    </tr>\n",
       "  </tbody>\n",
       "</table>\n",
       "</div>"
      ],
      "text/plain": [
       "                 East  West  North  South\n",
       "Observed Values                          \n",
       "Males              50   142    131     70\n",
       "Females           435  1523   1356    750"
      ]
     },
     "execution_count": 49,
     "metadata": {},
     "output_type": "execute_result"
    }
   ],
   "source": [
    "Buyer.head()"
   ]
  },
  {
   "cell_type": "code",
   "execution_count": 58,
   "id": "46c95e72",
   "metadata": {},
   "outputs": [
    {
     "name": "stdout",
     "output_type": "stream",
     "text": [
      "1.595945538661058 \n",
      " 0.6603094907091882 \n",
      " 3 \n",
      " [[  42.76531299  146.81287862  131.11756787   72.30424052]\n",
      " [ 442.23468701 1518.18712138 1355.88243213  747.69575948]]\n"
     ]
    }
   ],
   "source": [
    "stat, p, dof, exp = st.chi2_contingency(Buyer)\n",
    "print(stat,\"\\n\",p,\"\\n\",dof,\"\\n\",exp) #o/p --> (Chi2 stats value, p_value, df, expected obsvations)"
   ]
  },
  {
   "cell_type": "code",
   "execution_count": 70,
   "id": "11033eef",
   "metadata": {},
   "outputs": [
    {
     "name": "stdout",
     "output_type": "stream",
     "text": [
      "stat:- 1.595945538661058\n",
      "P_value:- 0.6603094907091882\n",
      "df:- 3\n",
      "exp:- [[  42.76531299  146.81287862  131.11756787   72.30424052]\n",
      " [ 442.23468701 1518.18712138 1355.88243213  747.69575948]]\n"
     ]
    }
   ],
   "source": [
    "print('''stat:- {0}\\nP_value:- {1}\\ndf:- {2}\\nexp:- {3}'''.format(stat,p,dof,exp))"
   ]
  },
  {
   "cell_type": "markdown",
   "id": "d44ec0dc",
   "metadata": {},
   "source": [
    "Here,  Statistics = 1.595945538661058\n",
    "<br>\n",
    "Chi square table(df = 3, Alpha = 0.05):- critical value = 7.82\n",
    "<br>\n",
    "Statistics < 7.82 --> fail to Reject H0\n",
    "<br>\n",
    "Hence, There is no association between male-female buyer rations across regions."
   ]
  }
 ],
 "metadata": {
  "kernelspec": {
   "display_name": "Python 3 (ipykernel)",
   "language": "python",
   "name": "python3"
  },
  "language_info": {
   "codemirror_mode": {
    "name": "ipython",
    "version": 3
   },
   "file_extension": ".py",
   "mimetype": "text/x-python",
   "name": "python",
   "nbconvert_exporter": "python",
   "pygments_lexer": "ipython3",
   "version": "3.9.12"
  }
 },
 "nbformat": 4,
 "nbformat_minor": 5
}
